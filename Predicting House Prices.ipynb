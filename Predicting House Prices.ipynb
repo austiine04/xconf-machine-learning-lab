{
 "cells": [
  {
   "cell_type": "code",
   "execution_count": 38,
   "metadata": {
    "collapsed": true
   },
   "outputs": [],
   "source": [
    "import pandas as pd"
   ]
  },
  {
   "cell_type": "code",
   "execution_count": 39,
   "metadata": {
    "collapsed": false
   },
   "outputs": [],
   "source": [
    "house_data = pd.read_csv('chicagohouseprices.csv')"
   ]
  },
  {
   "cell_type": "code",
   "execution_count": 40,
   "metadata": {
    "collapsed": false
   },
   "outputs": [],
   "source": [
    "# delete the index column as we don't need it\n",
    "del house_data['Unnamed: 0']"
   ]
  },
  {
   "cell_type": "code",
   "execution_count": 41,
   "metadata": {
    "collapsed": false,
    "scrolled": false
   },
   "outputs": [
    {
     "data": {
      "text/html": [
       "<div>\n",
       "<table border=\"1\" class=\"dataframe\">\n",
       "  <thead>\n",
       "    <tr style=\"text-align: right;\">\n",
       "      <th></th>\n",
       "      <th>Price</th>\n",
       "      <th>Bath</th>\n",
       "      <th>CrimeIndex</th>\n",
       "      <th>MinutesToLoop</th>\n",
       "      <th>MilesToLake</th>\n",
       "      <th>Age</th>\n",
       "      <th>LotSizeSqft</th>\n",
       "      <th>HouseSizeSqft</th>\n",
       "      <th>SchoolIndex</th>\n",
       "      <th>EstimatedPrice</th>\n",
       "    </tr>\n",
       "  </thead>\n",
       "  <tbody>\n",
       "    <tr>\n",
       "      <th>Price</th>\n",
       "      <td>1.000000</td>\n",
       "      <td>0.113943</td>\n",
       "      <td>0.118667</td>\n",
       "      <td>-0.034644</td>\n",
       "      <td>-0.072433</td>\n",
       "      <td>0.237720</td>\n",
       "      <td>0.443341</td>\n",
       "      <td>0.456272</td>\n",
       "      <td>-0.072403</td>\n",
       "      <td>0.983784</td>\n",
       "    </tr>\n",
       "    <tr>\n",
       "      <th>Bath</th>\n",
       "      <td>0.113943</td>\n",
       "      <td>1.000000</td>\n",
       "      <td>0.163785</td>\n",
       "      <td>0.166330</td>\n",
       "      <td>-0.157517</td>\n",
       "      <td>-0.039220</td>\n",
       "      <td>-0.029979</td>\n",
       "      <td>0.698526</td>\n",
       "      <td>-0.047992</td>\n",
       "      <td>0.105632</td>\n",
       "    </tr>\n",
       "    <tr>\n",
       "      <th>CrimeIndex</th>\n",
       "      <td>0.118667</td>\n",
       "      <td>0.163785</td>\n",
       "      <td>1.000000</td>\n",
       "      <td>0.194745</td>\n",
       "      <td>0.102382</td>\n",
       "      <td>-0.036644</td>\n",
       "      <td>-0.008807</td>\n",
       "      <td>0.070952</td>\n",
       "      <td>-0.100256</td>\n",
       "      <td>0.122793</td>\n",
       "    </tr>\n",
       "    <tr>\n",
       "      <th>MinutesToLoop</th>\n",
       "      <td>-0.034644</td>\n",
       "      <td>0.166330</td>\n",
       "      <td>0.194745</td>\n",
       "      <td>1.000000</td>\n",
       "      <td>0.374829</td>\n",
       "      <td>-0.023820</td>\n",
       "      <td>-0.053292</td>\n",
       "      <td>-0.032437</td>\n",
       "      <td>-0.196728</td>\n",
       "      <td>-0.034185</td>\n",
       "    </tr>\n",
       "    <tr>\n",
       "      <th>MilesToLake</th>\n",
       "      <td>-0.072433</td>\n",
       "      <td>-0.157517</td>\n",
       "      <td>0.102382</td>\n",
       "      <td>0.374829</td>\n",
       "      <td>1.000000</td>\n",
       "      <td>-0.047087</td>\n",
       "      <td>0.006240</td>\n",
       "      <td>-0.046517</td>\n",
       "      <td>-0.205966</td>\n",
       "      <td>-0.082604</td>\n",
       "    </tr>\n",
       "    <tr>\n",
       "      <th>Age</th>\n",
       "      <td>0.237720</td>\n",
       "      <td>-0.039220</td>\n",
       "      <td>-0.036644</td>\n",
       "      <td>-0.023820</td>\n",
       "      <td>-0.047087</td>\n",
       "      <td>1.000000</td>\n",
       "      <td>0.716774</td>\n",
       "      <td>0.645147</td>\n",
       "      <td>-0.029953</td>\n",
       "      <td>0.255628</td>\n",
       "    </tr>\n",
       "    <tr>\n",
       "      <th>LotSizeSqft</th>\n",
       "      <td>0.443341</td>\n",
       "      <td>-0.029979</td>\n",
       "      <td>-0.008807</td>\n",
       "      <td>-0.053292</td>\n",
       "      <td>0.006240</td>\n",
       "      <td>0.716774</td>\n",
       "      <td>1.000000</td>\n",
       "      <td>0.828598</td>\n",
       "      <td>-0.055458</td>\n",
       "      <td>0.454939</td>\n",
       "    </tr>\n",
       "    <tr>\n",
       "      <th>HouseSizeSqft</th>\n",
       "      <td>0.456272</td>\n",
       "      <td>0.698526</td>\n",
       "      <td>0.070952</td>\n",
       "      <td>-0.032437</td>\n",
       "      <td>-0.046517</td>\n",
       "      <td>0.645147</td>\n",
       "      <td>0.828598</td>\n",
       "      <td>1.000000</td>\n",
       "      <td>-0.023378</td>\n",
       "      <td>0.471783</td>\n",
       "    </tr>\n",
       "    <tr>\n",
       "      <th>SchoolIndex</th>\n",
       "      <td>-0.072403</td>\n",
       "      <td>-0.047992</td>\n",
       "      <td>-0.100256</td>\n",
       "      <td>-0.196728</td>\n",
       "      <td>-0.205966</td>\n",
       "      <td>-0.029953</td>\n",
       "      <td>-0.055458</td>\n",
       "      <td>-0.023378</td>\n",
       "      <td>1.000000</td>\n",
       "      <td>-0.073825</td>\n",
       "    </tr>\n",
       "    <tr>\n",
       "      <th>EstimatedPrice</th>\n",
       "      <td>0.983784</td>\n",
       "      <td>0.105632</td>\n",
       "      <td>0.122793</td>\n",
       "      <td>-0.034185</td>\n",
       "      <td>-0.082604</td>\n",
       "      <td>0.255628</td>\n",
       "      <td>0.454939</td>\n",
       "      <td>0.471783</td>\n",
       "      <td>-0.073825</td>\n",
       "      <td>1.000000</td>\n",
       "    </tr>\n",
       "  </tbody>\n",
       "</table>\n",
       "</div>"
      ],
      "text/plain": [
       "                   Price      Bath  CrimeIndex  MinutesToLoop  MilesToLake  \\\n",
       "Price           1.000000  0.113943    0.118667      -0.034644    -0.072433   \n",
       "Bath            0.113943  1.000000    0.163785       0.166330    -0.157517   \n",
       "CrimeIndex      0.118667  0.163785    1.000000       0.194745     0.102382   \n",
       "MinutesToLoop  -0.034644  0.166330    0.194745       1.000000     0.374829   \n",
       "MilesToLake    -0.072433 -0.157517    0.102382       0.374829     1.000000   \n",
       "Age             0.237720 -0.039220   -0.036644      -0.023820    -0.047087   \n",
       "LotSizeSqft     0.443341 -0.029979   -0.008807      -0.053292     0.006240   \n",
       "HouseSizeSqft   0.456272  0.698526    0.070952      -0.032437    -0.046517   \n",
       "SchoolIndex    -0.072403 -0.047992   -0.100256      -0.196728    -0.205966   \n",
       "EstimatedPrice  0.983784  0.105632    0.122793      -0.034185    -0.082604   \n",
       "\n",
       "                     Age  LotSizeSqft  HouseSizeSqft  SchoolIndex  \\\n",
       "Price           0.237720     0.443341       0.456272    -0.072403   \n",
       "Bath           -0.039220    -0.029979       0.698526    -0.047992   \n",
       "CrimeIndex     -0.036644    -0.008807       0.070952    -0.100256   \n",
       "MinutesToLoop  -0.023820    -0.053292      -0.032437    -0.196728   \n",
       "MilesToLake    -0.047087     0.006240      -0.046517    -0.205966   \n",
       "Age             1.000000     0.716774       0.645147    -0.029953   \n",
       "LotSizeSqft     0.716774     1.000000       0.828598    -0.055458   \n",
       "HouseSizeSqft   0.645147     0.828598       1.000000    -0.023378   \n",
       "SchoolIndex    -0.029953    -0.055458      -0.023378     1.000000   \n",
       "EstimatedPrice  0.255628     0.454939       0.471783    -0.073825   \n",
       "\n",
       "                EstimatedPrice  \n",
       "Price                 0.983784  \n",
       "Bath                  0.105632  \n",
       "CrimeIndex            0.122793  \n",
       "MinutesToLoop        -0.034185  \n",
       "MilesToLake          -0.082604  \n",
       "Age                   0.255628  \n",
       "LotSizeSqft           0.454939  \n",
       "HouseSizeSqft         0.471783  \n",
       "SchoolIndex          -0.073825  \n",
       "EstimatedPrice        1.000000  "
      ]
     },
     "execution_count": 41,
     "metadata": {},
     "output_type": "execute_result"
    }
   ],
   "source": [
    "# step 1: data exploration\n",
    "\n",
    "# house_data.head()\n",
    "# house_data.describe()\n",
    "# house_data.Bath.count(), # count a given column\n",
    "# house_data.columns\n",
    "# house_data.EstimatedPrice\n",
    "\n",
    "# looking for correlations between features\n",
    "# -ve means negative relationship, +ve means positive relationship\n",
    "house_data.corr()\n",
    "\n",
    "# trying to get a feel of how housesizeinsqft and bath affect the price\n",
    "# house_data.groupby(['HouseSizeSqft', 'Bath'])['Price'].mean()\n",
    "# house_data.groupby('Age').mean()"
   ]
  },
  {
   "cell_type": "code",
   "execution_count": 22,
   "metadata": {
    "collapsed": false
   },
   "outputs": [
    {
     "data": {
      "text/plain": [
       "<matplotlib.text.Text at 0x116dc6710>"
      ]
     },
     "execution_count": 22,
     "metadata": {},
     "output_type": "execute_result"
    },
    {
     "data": {
      "image/png": "[encoded data removed]",
      "text/plain": [
       "<matplotlib.figure.Figure at 0x1144c63d0>"
      ]
     },
     "metadata": {},
     "output_type": "display_data"
    }
   ],
   "source": [
    "# some visualizations on the data\n",
    "%matplotlib inline\n",
    "import matplotlib.pyplot as plt\n",
    "\n",
    "house_data.Bath.hist()\n",
    "plt.title('Frequency Distribution by Bathrooms')\n",
    "plt.xlabel('Bath')\n",
    "plt.ylabel('Frequency')\n",
    "\n",
    "# note the frequency numbers are too low, we might have lots of NaN values for bathrooms"
   ]
  },
  {
   "cell_type": "code",
   "execution_count": 42,
   "metadata": {
    "collapsed": false
   },
   "outputs": [
    {
     "data": {
      "text/plain": [
       "<matplotlib.text.Text at 0x11932a510>"
      ]
     },
     "execution_count": 42,
     "metadata": {},
     "output_type": "execute_result"
    },
    {
     "data": {
      "image/png": "[encoded data removed]",
      "text/plain": [
       "<matplotlib.figure.Figure at 0x1192f9650>"
      ]
     },
     "metadata": {},
     "output_type": "display_data"
    }
   ],
   "source": [
    "house_data.Age.hist()\n",
    "plt.title('Frequency distribution by Age')\n",
    "plt.xlabel('Age')\n",
    "plt.ylabel('Frequency')"
   ]
  },
  {
   "cell_type": "markdown",
   "metadata": {
    "collapsed": false
   },
   "source": [
    "#try out a scatteplot \n",
    "house_data.plot.scatter()"
   ]
  },
  {
   "cell_type": "code",
   "execution_count": 29,
   "metadata": {
    "collapsed": false
   },
   "outputs": [],
   "source": [
    "# preparing the data for linear regression\n",
    "\n",
    "# extract the y-values\n",
    "house_prices = house_data['Price']\n",
    "del house_data['Price']"
   ]
  },
  {
   "cell_type": "code",
   "execution_count": 24,
   "metadata": {
    "collapsed": false
   },
   "outputs": [],
   "source": [
    "# remove non numeric columns\n",
    "del house_data['HouseType']\n",
    "del house_data['Address']\n",
    "del house_data['Neighborhood']"
   ]
  },
  {
   "cell_type": "code",
   "execution_count": 30,
   "metadata": {
    "collapsed": false
   },
   "outputs": [],
   "source": [
    "# lets also assume that if a house has NaN for bath, it has one bathroom because surely it should have atleast one\n",
    "house_data['Bath'] = house_data['Bath'].fillna(1)"
   ]
  },
  {
   "cell_type": "code",
   "execution_count": 31,
   "metadata": {
    "collapsed": true
   },
   "outputs": [],
   "source": [
    "# split the data to create a training and test set.\n",
    "from sklearn.cross_validation import train_test_split\n",
    "training_set_features, test_set_features, train_set_prices, test_set_prices = train_test_split(house_data, house_prices, random_state=1)"
   ]
  },
  {
   "cell_type": "code",
   "execution_count": 32,
   "metadata": {
    "collapsed": false
   },
   "outputs": [
    {
     "data": {
      "text/plain": [
       "LinearRegression(copy_X=True, fit_intercept=True, n_jobs=1, normalize=False)"
      ]
     },
     "execution_count": 32,
     "metadata": {},
     "output_type": "execute_result"
    }
   ],
   "source": [
    "# train a linear regression model\n",
    "from sklearn.linear_model import LinearRegression\n",
    "\n",
    "linear_regression = LinearRegression()\n",
    "linear_regression.fit(training_set_features, train_set_prices) # talk abit about what's going on here"
   ]
  },
  {
   "cell_type": "code",
   "execution_count": 34,
   "metadata": {
    "collapsed": false
   },
   "outputs": [
    {
     "name": "stderr",
     "output_type": "stream",
     "text": [
      "/Applications/anaconda/lib/python2.7/site-packages/sklearn/utils/validation.py:386: DeprecationWarning: Passing 1d arrays as data is deprecated in 0.17 and willraise ValueError in 0.19. Reshape your data either using X.reshape(-1, 1) if your data has a single feature or X.reshape(1, -1) if it contains a single sample.\n",
      "  DeprecationWarning)\n"
     ]
    },
    {
     "data": {
      "text/plain": [
       "array([ 605552.0668851])"
      ]
     },
     "execution_count": 34,
     "metadata": {},
     "output_type": "execute_result"
    }
   ],
   "source": [
    "# predicting the price of a given house\n",
    "linear_regression.predict(test_set_features.iloc[0])"
   ]
  },
  {
   "cell_type": "code",
   "execution_count": 194,
   "metadata": {
    "collapsed": false
   },
   "outputs": [],
   "source": [
    "# model evaluation, how do we know whether our predictions are correct?"
   ]
  }
 ],
 "metadata": {
  "kernelspec": {
   "display_name": "Python 2",
   "language": "python",
   "name": "python2"
  },
  "language_info": {
   "codemirror_mode": {
    "name": "ipython",
    "version": 2
   },
   "file_extension": ".py",
   "mimetype": "text/x-python",
   "name": "python",
   "nbconvert_exporter": "python",
   "pygments_lexer": "ipython2",
   "version": "2.7.11"
  }
 },
 "nbformat": 4,
 "nbformat_minor": 0
}
