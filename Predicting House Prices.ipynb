{
 "cells": [
  {
   "cell_type": "code",
   "execution_count": 7,
   "metadata": {
    "collapsed": true
   },
   "outputs": [],
   "source": [
    "import pandas as pd"
   ]
  },
  {
   "cell_type": "code",
   "execution_count": 22,
   "metadata": {
    "collapsed": false
   },
   "outputs": [],
   "source": [
    "# load the training set\n",
    "\n",
    "house_data = pd.read_csv('training.csv')"
   ]
  },
  {
   "cell_type": "code",
   "execution_count": 23,
   "metadata": {
    "collapsed": false
   },
   "outputs": [],
   "source": [
    "# delete the index column as we don't need it\n",
    "del house_data['Unnamed: 0']"
   ]
  },
  {
   "cell_type": "code",
   "execution_count": 24,
   "metadata": {
    "collapsed": false,
    "scrolled": false
   },
   "outputs": [
    {
     "data": {
      "text/html": [
       "<div>\n",
       "<table border=\"1\" class=\"dataframe\">\n",
       "  <thead>\n",
       "    <tr style=\"text-align: right;\">\n",
       "      <th></th>\n",
       "      <th>Bath</th>\n",
       "      <th>CrimeIndex</th>\n",
       "      <th>MinutesToLoop</th>\n",
       "      <th>MilesToLake</th>\n",
       "      <th>Age</th>\n",
       "      <th>LotSizeSqft</th>\n",
       "      <th>HouseSizeSqft</th>\n",
       "      <th>SchoolIndex</th>\n",
       "      <th>EstimatedPrice</th>\n",
       "      <th>Price</th>\n",
       "    </tr>\n",
       "  </thead>\n",
       "  <tbody>\n",
       "    <tr>\n",
       "      <th>0</th>\n",
       "      <td>2</td>\n",
       "      <td>5.74</td>\n",
       "      <td>9</td>\n",
       "      <td>3.42</td>\n",
       "      <td>0</td>\n",
       "      <td>2614</td>\n",
       "      <td>2420</td>\n",
       "      <td>59.5</td>\n",
       "      <td>686930</td>\n",
       "      <td>730000</td>\n",
       "    </tr>\n",
       "    <tr>\n",
       "      <th>1</th>\n",
       "      <td>1</td>\n",
       "      <td>4.45</td>\n",
       "      <td>9</td>\n",
       "      <td>3.95</td>\n",
       "      <td>0</td>\n",
       "      <td>0</td>\n",
       "      <td>0</td>\n",
       "      <td>93.9</td>\n",
       "      <td>453060</td>\n",
       "      <td>540000</td>\n",
       "    </tr>\n",
       "    <tr>\n",
       "      <th>2</th>\n",
       "      <td>1</td>\n",
       "      <td>4.63</td>\n",
       "      <td>9</td>\n",
       "      <td>3.01</td>\n",
       "      <td>0</td>\n",
       "      <td>0</td>\n",
       "      <td>0</td>\n",
       "      <td>78.9</td>\n",
       "      <td>329337</td>\n",
       "      <td>387000</td>\n",
       "    </tr>\n",
       "    <tr>\n",
       "      <th>3</th>\n",
       "      <td>3</td>\n",
       "      <td>5.78</td>\n",
       "      <td>8</td>\n",
       "      <td>3.10</td>\n",
       "      <td>131</td>\n",
       "      <td>2614</td>\n",
       "      <td>2596</td>\n",
       "      <td>50.0</td>\n",
       "      <td>399360</td>\n",
       "      <td>390000</td>\n",
       "    </tr>\n",
       "    <tr>\n",
       "      <th>4</th>\n",
       "      <td>1</td>\n",
       "      <td>4.38</td>\n",
       "      <td>9</td>\n",
       "      <td>3.60</td>\n",
       "      <td>0</td>\n",
       "      <td>0</td>\n",
       "      <td>0</td>\n",
       "      <td>93.9</td>\n",
       "      <td>444996</td>\n",
       "      <td>394500</td>\n",
       "    </tr>\n",
       "  </tbody>\n",
       "</table>\n",
       "</div>"
      ],
      "text/plain": [
       "   Bath  CrimeIndex  MinutesToLoop  MilesToLake  Age  LotSizeSqft  \\\n",
       "0     2        5.74              9         3.42    0         2614   \n",
       "1     1        4.45              9         3.95    0            0   \n",
       "2     1        4.63              9         3.01    0            0   \n",
       "3     3        5.78              8         3.10  131         2614   \n",
       "4     1        4.38              9         3.60    0            0   \n",
       "\n",
       "   HouseSizeSqft  SchoolIndex  EstimatedPrice   Price  \n",
       "0           2420         59.5          686930  730000  \n",
       "1              0         93.9          453060  540000  \n",
       "2              0         78.9          329337  387000  \n",
       "3           2596         50.0          399360  390000  \n",
       "4              0         93.9          444996  394500  "
      ]
     },
     "execution_count": 24,
     "metadata": {},
     "output_type": "execute_result"
    }
   ],
   "source": [
    "# step 1: data exploration\n",
    "\n",
    "house_data.head()\n",
    "# house_data.describe()\n",
    "# house_data.Bath.count(), # count a given column\n",
    "# house_data.columns\n",
    "# house_data.EstimatedPrice\n",
    "\n",
    "# looking for correlations between features\n",
    "# -ve means negative relationship, +ve means positive relationship\n",
    "# house_data.corr()\n",
    "\n",
    "# trying to get a feel of how housesizeinsqft and bath affect the price\n",
    "# house_data.groupby(['HouseSizeSqft', 'Bath'])['Price'].mean()\n",
    "# house_data.groupby('Age').mean()"
   ]
  },
  {
   "cell_type": "code",
   "execution_count": 25,
   "metadata": {
    "collapsed": false
   },
   "outputs": [
    {
     "data": {
      "text/plain": [
       "<matplotlib.text.Text at 0x117828cd0>"
      ]
     },
     "execution_count": 25,
     "metadata": {},
     "output_type": "execute_result"
    },
    {
     "data": {
      "image/png": "[encoded data removed]",
      "text/plain": [
       "<matplotlib.figure.Figure at 0x116fe3990>"
      ]
     },
     "metadata": {},
     "output_type": "display_data"
    }
   ],
   "source": [
    "# some visualizations on the data\n",
    "%matplotlib inline\n",
    "import matplotlib.pyplot as plt\n",
    "\n",
    "house_data.Bath.hist()\n",
    "plt.title('Frequency Distribution by Bathrooms')\n",
    "plt.xlabel('Bath')\n",
    "plt.ylabel('Frequency')\n",
    "\n",
    "# note the frequency numbers are too low, we might have lots of NaN values for bathrooms"
   ]
  },
  {
   "cell_type": "code",
   "execution_count": 20,
   "metadata": {
    "collapsed": false
   },
   "outputs": [
    {
     "data": {
      "text/plain": [
       "<matplotlib.text.Text at 0x116ffb1d0>"
      ]
     },
     "execution_count": 20,
     "metadata": {},
     "output_type": "execute_result"
    },
    {
     "data": {
      "image/png": "[encoded data removed]",
      "text/plain": [
       "<matplotlib.figure.Figure at 0x117803110>"
      ]
     },
     "metadata": {},
     "output_type": "display_data"
    }
   ],
   "source": [
    "house_data.Age.hist()\n",
    "plt.title('Frequency distribution by Age')\n",
    "plt.xlabel('Age')\n",
    "plt.ylabel('Frequency')"
   ]
  },
  {
   "cell_type": "code",
   "execution_count": 26,
   "metadata": {
    "collapsed": false
   },
   "outputs": [],
   "source": [
    "# preparing the data for linear regression\n",
    "\n",
    "# extract the y-values\n",
    "house_prices = house_data['Price']\n",
    "del house_data['Price']\n",
    "\n",
    "# remove non numeric columns, because the algorithm only works with numeric values. \n",
    "# this is not usually ideal because as you imagine all these features have an huge influence on the price of the house\n",
    "# so we are loosing valuable data"
   ]
  },
  {
   "cell_type": "code",
   "execution_count": 27,
   "metadata": {
    "collapsed": false
   },
   "outputs": [],
   "source": [
    "# lets also assume that if a house has NaN for bath, it has one bathroom because surely it should have atleast one\n",
    "house_data['Bath'] = house_data['Bath'].fillna(1)"
   ]
  },
  {
   "cell_type": "code",
   "execution_count": 29,
   "metadata": {
    "collapsed": false
   },
   "outputs": [
    {
     "data": {
      "text/plain": [
       "LinearRegression(copy_X=True, fit_intercept=True, n_jobs=1, normalize=False)"
      ]
     },
     "execution_count": 29,
     "metadata": {},
     "output_type": "execute_result"
    }
   ],
   "source": [
    "# train a linear regression model\n",
    "from sklearn.linear_model import LinearRegression\n",
    "\n",
    "linear_regression = LinearRegression()\n",
    "linear_regression.fit(house_data, house_prices) # talk abit about what's going on here"
   ]
  },
  {
   "cell_type": "code",
   "execution_count": 44,
   "metadata": {
    "collapsed": false
   },
   "outputs": [
    {
     "data": {
      "text/html": [
       "<div>\n",
       "<table border=\"1\" class=\"dataframe\">\n",
       "  <thead>\n",
       "    <tr style=\"text-align: right;\">\n",
       "      <th></th>\n",
       "      <th>Bath</th>\n",
       "      <th>CrimeIndex</th>\n",
       "      <th>MinutesToLoop</th>\n",
       "      <th>MilesToLake</th>\n",
       "      <th>Age</th>\n",
       "      <th>LotSizeSqft</th>\n",
       "      <th>HouseSizeSqft</th>\n",
       "      <th>SchoolIndex</th>\n",
       "      <th>EstimatedPrice</th>\n",
       "    </tr>\n",
       "  </thead>\n",
       "  <tbody>\n",
       "    <tr>\n",
       "      <th>0</th>\n",
       "      <td>3</td>\n",
       "      <td>4.63</td>\n",
       "      <td>9</td>\n",
       "      <td>2.94</td>\n",
       "      <td>121</td>\n",
       "      <td>2614</td>\n",
       "      <td>3432</td>\n",
       "      <td>50.0</td>\n",
       "      <td>611212.0</td>\n",
       "    </tr>\n",
       "    <tr>\n",
       "      <th>1</th>\n",
       "      <td>1</td>\n",
       "      <td>3.59</td>\n",
       "      <td>10</td>\n",
       "      <td>3.75</td>\n",
       "      <td>0</td>\n",
       "      <td>0</td>\n",
       "      <td>0</td>\n",
       "      <td>69.4</td>\n",
       "      <td>313950.0</td>\n",
       "    </tr>\n",
       "    <tr>\n",
       "      <th>2</th>\n",
       "      <td>3</td>\n",
       "      <td>5.58</td>\n",
       "      <td>11</td>\n",
       "      <td>3.46</td>\n",
       "      <td>0</td>\n",
       "      <td>871</td>\n",
       "      <td>1983</td>\n",
       "      <td>36.1</td>\n",
       "      <td>539955.0</td>\n",
       "    </tr>\n",
       "    <tr>\n",
       "      <th>3</th>\n",
       "      <td>1</td>\n",
       "      <td>5.99</td>\n",
       "      <td>9</td>\n",
       "      <td>3.24</td>\n",
       "      <td>0</td>\n",
       "      <td>0</td>\n",
       "      <td>0</td>\n",
       "      <td>69.4</td>\n",
       "      <td>84798.5</td>\n",
       "    </tr>\n",
       "    <tr>\n",
       "      <th>4</th>\n",
       "      <td>1</td>\n",
       "      <td>5.65</td>\n",
       "      <td>9</td>\n",
       "      <td>3.42</td>\n",
       "      <td>41</td>\n",
       "      <td>0</td>\n",
       "      <td>0</td>\n",
       "      <td>36.1</td>\n",
       "      <td>294254.0</td>\n",
       "    </tr>\n",
       "  </tbody>\n",
       "</table>\n",
       "</div>"
      ],
      "text/plain": [
       "   Bath  CrimeIndex  MinutesToLoop  MilesToLake  Age  LotSizeSqft  \\\n",
       "0     3        4.63              9         2.94  121         2614   \n",
       "1     1        3.59             10         3.75    0            0   \n",
       "2     3        5.58             11         3.46    0          871   \n",
       "3     1        5.99              9         3.24    0            0   \n",
       "4     1        5.65              9         3.42   41            0   \n",
       "\n",
       "   HouseSizeSqft  SchoolIndex  EstimatedPrice  \n",
       "0           3432         50.0        611212.0  \n",
       "1              0         69.4        313950.0  \n",
       "2           1983         36.1        539955.0  \n",
       "3              0         69.4         84798.5  \n",
       "4              0         36.1        294254.0  "
      ]
     },
     "execution_count": 44,
     "metadata": {},
     "output_type": "execute_result"
    }
   ],
   "source": [
    "# using the test data set to predict the price of a given house\n",
    "test_set = pd.read_csv('test.csv')\n",
    "\n",
    "# delete the index column\n",
    "del test_set['Unnamed: 0']\n",
    "\n",
    "# predict the price for a house\n",
    "test_set.head()"
   ]
  },
  {
   "cell_type": "code",
   "execution_count": 46,
   "metadata": {
    "collapsed": false
   },
   "outputs": [
    {
     "name": "stderr",
     "output_type": "stream",
     "text": [
      "/Applications/anaconda/lib/python2.7/site-packages/sklearn/utils/validation.py:386: DeprecationWarning: Passing 1d arrays as data is deprecated in 0.17 and willraise ValueError in 0.19. Reshape your data either using X.reshape(-1, 1) if your data has a single feature or X.reshape(1, -1) if it contains a single sample.\n",
      "  DeprecationWarning)\n"
     ]
    },
    {
     "data": {
      "text/plain": [
       "array([ 605552.0668851])"
      ]
     },
     "execution_count": 46,
     "metadata": {},
     "output_type": "execute_result"
    }
   ],
   "source": [
    "# predict the price of a house\n",
    "# test_set.iloc[0]\n",
    "linear_regression.predict(test_set.iloc[0])"
   ]
  },
  {
   "cell_type": "code",
   "execution_count": 47,
   "metadata": {
    "collapsed": false
   },
   "outputs": [
    {
     "name": "stderr",
     "output_type": "stream",
     "text": [
      "/Applications/anaconda/lib/python2.7/site-packages/sklearn/utils/validation.py:386: DeprecationWarning: Passing 1d arrays as data is deprecated in 0.17 and willraise ValueError in 0.19. Reshape your data either using X.reshape(-1, 1) if your data has a single feature or X.reshape(1, -1) if it contains a single sample.\n",
      "  DeprecationWarning)\n"
     ]
    }
   ],
   "source": [
    "# predict prices for all houses\n",
    "predicted_prices = linear_regression.predict(test_set.iloc[0])"
   ]
  },
  {
   "cell_type": "code",
   "execution_count": 50,
   "metadata": {
    "collapsed": false
   },
   "outputs": [
    {
     "data": {
      "text/plain": [
       "0.9639247890471645"
      ]
     },
     "execution_count": 50,
     "metadata": {},
     "output_type": "execute_result"
    }
   ],
   "source": [
    "# load test data with actual valid prices\n",
    "actual_prices_for_test_data = pd.read_csv('test_with_actual_price.csv').Price\n",
    "\n",
    "# model evaluation, how do we know if our predictions are correct?\n",
    "linear_regression.score(test_set, actual_prices_for_test_data)\n",
    "\n",
    "# a score that is close means that our predictions have a high degree of accuracy"
   ]
  },
  {
   "cell_type": "code",
   "execution_count": null,
   "metadata": {
    "collapsed": true
   },
   "outputs": [],
   "source": [
    "# To keep this lab short, \n",
    "# i removed non numeric columns, because the LinearRegression algorithm only works with numeric values as input. \n",
    "# this is not usually ideal because as you can imagine all these features have a huge influence on the price of the house\n",
    "# so we are loosing valuable data\n",
    "\n",
    "# normally we would encode them numeric values"
   ]
  }
 ],
 "metadata": {
  "kernelspec": {
   "display_name": "Python 2",
   "language": "python",
   "name": "python2"
  },
  "language_info": {
   "codemirror_mode": {
    "name": "ipython",
    "version": 2
   },
   "file_extension": ".py",
   "mimetype": "text/x-python",
   "name": "python",
   "nbconvert_exporter": "python",
   "pygments_lexer": "ipython2",
   "version": "2.7.11"
  }
 },
 "nbformat": 4,
 "nbformat_minor": 0
}
